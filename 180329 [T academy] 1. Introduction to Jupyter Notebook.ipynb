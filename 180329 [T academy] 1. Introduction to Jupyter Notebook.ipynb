{
 "cells": [
  {
   "cell_type": "markdown",
   "metadata": {},
   "source": [
    "# Introduction to Jupyter Notebook"
   ]
  },
  {
   "cell_type": "markdown",
   "metadata": {},
   "source": [
    "http://jupyter.org/\n",
    "\n",
    "Getting Started\n",
    "1. run Anaconda Prompt (or Command Prompt)\n",
    "2. type ' jupyter notebook ' and run\n",
    "\n",
    "Creating a new ipython notebook\n",
    "* 'New' -> 'Python 3'"
   ]
  },
  {
   "cell_type": "code",
   "execution_count": 3,
   "metadata": {},
   "outputs": [
    {
     "data": {
      "text/plain": [
       "'hello world'"
      ]
     },
     "execution_count": 3,
     "metadata": {},
     "output_type": "execute_result"
    }
   ],
   "source": [
    "'hello world'"
   ]
  },
  {
   "cell_type": "code",
   "execution_count": 6,
   "metadata": {},
   "outputs": [
    {
     "data": {
      "text/plain": [
       "'C:\\\\Users\\\\solip\\\\Jupyter'"
      ]
     },
     "execution_count": 6,
     "metadata": {},
     "output_type": "execute_result"
    }
   ],
   "source": [
    "# print working directory\n",
    "pwd"
   ]
  },
  {
   "cell_type": "code",
   "execution_count": 2,
   "metadata": {},
   "outputs": [],
   "source": [
    "# KEY FEATURES\n",
    "\n",
    "# Code <-> Markdown\n",
    "# Kernel -> Interrupt (to stop infinite loop)"
   ]
  },
  {
   "cell_type": "code",
   "execution_count": null,
   "metadata": {},
   "outputs": [],
   "source": [
    "# USEFUL SHORTCUTS\n",
    "\n",
    "run_and_pass = 'Shift + Enter'\n",
    "run_and_add_cell = 'Alt + Enter'\n",
    "run_and_stay = 'Ctrl + Enter'\n",
    "\n",
    "recommendations = 'Tab'\n",
    "docstrings = 'Shift + Tab'\n",
    "\n",
    "add_hashtag = 'Ctrl + /'\n",
    "add_cell = 'b'\n",
    "delete_cell = 'dd'"
   ]
  }
 ],
 "metadata": {
  "kernelspec": {
   "display_name": "Python 3",
   "language": "python",
   "name": "python3"
  },
  "language_info": {
   "codemirror_mode": {
    "name": "ipython",
    "version": 3
   },
   "file_extension": ".py",
   "mimetype": "text/x-python",
   "name": "python",
   "nbconvert_exporter": "python",
   "pygments_lexer": "ipython3",
   "version": "3.6.2"
  }
 },
 "nbformat": 4,
 "nbformat_minor": 2
}
